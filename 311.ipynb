{
 "cells": [
  {
   "attachments": {},
   "cell_type": "markdown",
   "metadata": {},
   "source": [
    "問12 $X$の確率密度関数が$f(x)=1$，$0<x<1$，で与えられている。\n",
    "\n",
    "(1) $X$の積率母関数を求め，平均と分散を与えよ。\n",
    "\n"
   ]
  },
  {
   "cell_type": "code",
   "execution_count": 36,
   "metadata": {},
   "outputs": [],
   "source": [
    "using MathLink,MathLinkExtras"
   ]
  },
  {
   "cell_type": "code",
   "execution_count": 13,
   "metadata": {},
   "outputs": [
    {
     "data": {
      "text/latex": [
       "$\\frac{e^t-1}{t}$"
      ],
      "text/plain": [
       "W\"Mx\"(W\"t\")"
      ]
     },
     "metadata": {},
     "output_type": "display_data"
    }
   ],
   "source": [
    "W`Mx[t_]:=Integrate[E^(t x),{x,0,1}]`\n",
    "W`Mx[t]`"
   ]
  },
  {
   "attachments": {},
   "cell_type": "markdown",
   "metadata": {},
   "source": [
    "$$\\begin{aligned}M_X(t)&=E[e^{tx}]\n",
    "=\\int_0^1e^{tx}f(x)dx\n",
    "=\\int_0^1e^{tx}dx\n",
    "=\\left[\\dfrac{e^{tx}}{t}\\right]_0^1\n",
    "=\\dfrac{e^t-1}t\\end{aligned}$$"
   ]
  },
  {
   "cell_type": "code",
   "execution_count": 27,
   "metadata": {},
   "outputs": [
    {
     "data": {
      "text/latex": [
       "$\\frac{e^t \\left(t^3-3 t^2+6 t-6\\right)+6}{t^4}$"
      ],
      "text/plain": [
       "W\"Simplify\"(W\"D\"(W\"Mx\"(W\"t\"), W\"List\"(W\"t\", 3)))"
      ]
     },
     "metadata": {},
     "output_type": "display_data"
    }
   ],
   "source": [
    "W`Simplify[D[Mx[t],{t,3}]]`"
   ]
  },
  {
   "attachments": {},
   "cell_type": "markdown",
   "metadata": {},
   "source": [
    "$$\\begin{aligned}\n",
    "\\dfrac{d}{dt}M_X(t)&=\\dfrac{e^t(t-1)+1}{t^2}\\\\\n",
    "\\lim_{t\\to0}\\dfrac{d}{dt}M_X(t)&=\\lim_{t\\to0}\\dfrac{e^t(t-1)+1}{t^2}\\\\\n",
    "E[e^{tx}]&\n",
    "=\\int_0^1e^{tx}f(x)dx\n",
    "=\\int_0^1e^{tx}dx\n",
    "=\\left[\\dfrac{e^{tx}}{t}\\right]_0^1\n",
    "=\\dfrac{e^t-1}t\\end{aligned}$$"
   ]
  },
  {
   "cell_type": "code",
   "execution_count": 26,
   "metadata": {},
   "outputs": [
    {
     "data": {
      "text/latex": [
       "$e^t t^2$"
      ],
      "text/plain": [
       "W\"Simplify\"(W\"D\"(W\"Plus\"(W\"Times\"(W\"Power\"(W\"E\", W\"t\"), W\"Plus\"(W\"Power\"(W\"t\", 2), W\"Times\"(-1, W\"Times\"(2, W\"t\")), 2)), -2), W\"t\"))"
      ]
     },
     "metadata": {},
     "output_type": "display_data"
    }
   ],
   "source": [
    "W`Simplify[D[E^t(t^2-2t+2)-2,t]]`"
   ]
  },
  {
   "cell_type": "code",
   "execution_count": 41,
   "metadata": {},
   "outputs": [
    {
     "data": {
      "text/latex": [
       "$\\frac{e^{\\mu  t} \\left(e^{\\sigma  t} (t (\\mu +\\sigma )-1)+\\mu  (-t)+1\\right)}{\\sigma  t^2}$"
      ],
      "text/plain": [
       "W\"Simplify\"(W\"D\"(W\"Times\"(W\"Plus\"(W\"Power\"(W\"E\", W\"Times\"(W\"t\", W\"Plus\"(W\"μ\", W\"σ\"))), W\"Times\"(-1, W\"Power\"(W\"E\", W\"Times\"(W\"t\", W\"μ\")))), W\"Power\"(W\"Times\"(W\"t\", W\"σ\"), -1)), W\"t\"))"
      ]
     },
     "metadata": {},
     "output_type": "display_data"
    }
   ],
   "source": [
    "W`Simplify[D[(E^(t(μ+σ))-E^(t μ))/(t σ),t]]`"
   ]
  },
  {
   "cell_type": "code",
   "execution_count": null,
   "metadata": {},
   "outputs": [],
   "source": []
  }
 ],
 "metadata": {
  "kernelspec": {
   "display_name": "Julia 1.8.5",
   "language": "julia",
   "name": "julia-1.8"
  },
  "language_info": {
   "file_extension": ".jl",
   "mimetype": "application/julia",
   "name": "julia",
   "version": "1.8.5"
  },
  "orig_nbformat": 4
 },
 "nbformat": 4,
 "nbformat_minor": 2
}
